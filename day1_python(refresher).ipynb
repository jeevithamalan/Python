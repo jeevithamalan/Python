{
 "cells": [
  {
   "cell_type": "code",
   "execution_count": null,
   "id": "0058a8f4",
   "metadata": {},
   "outputs": [],
   "source": [
    "list -- changeable\n",
    "\n",
    "\n",
    "tuple1 = (1,2,3,4,5)"
   ]
  },
  {
   "cell_type": "code",
   "execution_count": 1,
   "id": "433770b1",
   "metadata": {},
   "outputs": [
    {
     "name": "stdout",
     "output_type": "stream",
     "text": [
      "3\n"
     ]
    }
   ],
   "source": [
    "tuple1 = (1,2,3,4,5)\n",
    "print(tuple1[2])"
   ]
  },
  {
   "cell_type": "code",
   "execution_count": 4,
   "id": "bdee95dd",
   "metadata": {},
   "outputs": [
    {
     "name": "stdout",
     "output_type": "stream",
     "text": [
      "hello\n"
     ]
    }
   ],
   "source": [
    "txt = 'hello world'\n",
    "print(txt[0:5])"
   ]
  },
  {
   "cell_type": "code",
   "execution_count": 5,
   "id": "d02eff69",
   "metadata": {},
   "outputs": [
    {
     "data": {
      "text/plain": [
       "(1, 2, 'orange', 4, 5)"
      ]
     },
     "execution_count": 5,
     "metadata": {},
     "output_type": "execute_result"
    }
   ],
   "source": [
    "tuple1 = (1,2,3,4,5)\n",
    "x = list(tuple1)\n",
    "x[2] = 'orange'\n",
    "tuple1 = tuple(x)\n",
    "tuple1"
   ]
  },
  {
   "cell_type": "code",
   "execution_count": 6,
   "id": "cfbbcbb0",
   "metadata": {},
   "outputs": [
    {
     "data": {
      "text/plain": [
       "'Ford'"
      ]
     },
     "execution_count": 6,
     "metadata": {},
     "output_type": "execute_result"
    }
   ],
   "source": [
    "thisdict = {\n",
    "  \"brand\": \"Ford\",\n",
    "  \"model\": \"Mustang\",\n",
    "  \"year\": 1964\n",
    "}\n",
    "\n",
    "thisdict['brand']"
   ]
  },
  {
   "cell_type": "code",
   "execution_count": 8,
   "id": "37443e14",
   "metadata": {},
   "outputs": [
    {
     "data": {
      "text/plain": [
       "dict_keys(['brand', 'model', 'year'])"
      ]
     },
     "execution_count": 8,
     "metadata": {},
     "output_type": "execute_result"
    }
   ],
   "source": [
    "thisdict.keys()"
   ]
  },
  {
   "cell_type": "code",
   "execution_count": 9,
   "id": "71c80c4b",
   "metadata": {},
   "outputs": [
    {
     "name": "stdout",
     "output_type": "stream",
     "text": [
      "Ford\n",
      "Mustang\n",
      "1964\n"
     ]
    }
   ],
   "source": [
    "for i in thisdict:\n",
    "    print(thisdict[i])"
   ]
  },
  {
   "cell_type": "code",
   "execution_count": 10,
   "id": "8a14bb7c",
   "metadata": {},
   "outputs": [
    {
     "name": "stdout",
     "output_type": "stream",
     "text": [
      "brand Ford\n",
      "model Mustang\n",
      "year 1964\n"
     ]
    }
   ],
   "source": [
    "for i,j in thisdict.items():\n",
    "    print(i,j)"
   ]
  },
  {
   "cell_type": "code",
   "execution_count": null,
   "id": "7b0a1dcd",
   "metadata": {},
   "outputs": [],
   "source": [
    "txt = \"\""
   ]
  },
  {
   "cell_type": "code",
   "execution_count": 11,
   "id": "e0e88902",
   "metadata": {},
   "outputs": [],
   "source": [
    "myfamily = {\n",
    "  \"child1\" : {\n",
    "    \"name\" : \"Emil\",\n",
    "    \"year\" : 2004\n",
    "  },\n",
    "  \"child2\" : {\n",
    "    \"name\" : \"Tobias\",\n",
    "    \"year\" : 2007\n",
    "  },\n",
    "  \"child3\" : {\n",
    "    \"name\" : \"Linus\",\n",
    "    \"year\" : 2011\n",
    "  }\n",
    "}"
   ]
  },
  {
   "cell_type": "code",
   "execution_count": 12,
   "id": "595df95c",
   "metadata": {},
   "outputs": [
    {
     "name": "stdout",
     "output_type": "stream",
     "text": [
      "Tobias\n"
     ]
    }
   ],
   "source": [
    "print(myfamily['child2']['name'])"
   ]
  },
  {
   "cell_type": "code",
   "execution_count": 13,
   "id": "12812bcf",
   "metadata": {},
   "outputs": [
    {
     "data": {
      "text/plain": [
       "30"
      ]
     },
     "execution_count": 13,
     "metadata": {},
     "output_type": "execute_result"
    }
   ],
   "source": [
    "arr = [1, 2, 3, 4, 5, 6, 7, 8, 9]\n",
    "\n",
    "subarray = arr[3:8]\n",
    "\n",
    "subarray_sum = sum(subarray)\n",
    "subarray_sum"
   ]
  },
  {
   "cell_type": "code",
   "execution_count": 14,
   "id": "82c47b30",
   "metadata": {},
   "outputs": [
    {
     "name": "stdout",
     "output_type": "stream",
     "text": [
      "4A3B2C\n"
     ]
    }
   ],
   "source": [
    "from itertools import groupby\n",
    "\n",
    "lst = [\"A\", \"A\", \"A\", \"A\", \"B\", \"B\", \"B\", \"C\", \"C\"]\n",
    "\n",
    "output = ''.join(f\"{len(list(group))}{key}\" for key,group in groupby(lst))\n",
    "\n",
    "print(output)"
   ]
  },
  {
   "cell_type": "code",
   "execution_count": null,
   "id": "ac13d454",
   "metadata": {},
   "outputs": [],
   "source": [
    "Input Description:\n",
    "You are given a number ‘n’,Then next line contains n space separated numbers.\n",
    "\n",
    "Output Description:\n",
    "Maximum sum value produced by the increasing sub array of size 'n'\n",
    "\n",
    "Sample Input :\n",
    "6\n",
    "2 1 4 7 3 6\n",
    "\n",
    "Sample Output :\n",
    "12"
   ]
  },
  {
   "cell_type": "code",
   "execution_count": 18,
   "id": "e930da91",
   "metadata": {},
   "outputs": [
    {
     "name": "stdout",
     "output_type": "stream",
     "text": [
      "6\n",
      "2 1 4 7 3 6\n",
      "12\n"
     ]
    }
   ],
   "source": [
    "def max_increasing_subarray_sum(arr):\n",
    "    max_sum = current_sum = arr[0]\n",
    "\n",
    "    for i in range(1, len(arr)):\n",
    "        current_sum = current_sum + arr[i] if arr[i] > arr[i - 1] else arr[i]\n",
    "        max_sum = max(max_sum, current_sum)\n",
    "\n",
    "    return max_sum\n",
    "\n",
    "\n",
    "n = int(input())\n",
    "arr = list(map(int, input().split()))\n",
    "\n",
    "\n",
    "print(max_increasing_subarray_sum(arr))\n",
    "\n",
    "\n"
   ]
  },
  {
   "cell_type": "code",
   "execution_count": null,
   "id": "4f1cc3ac",
   "metadata": {},
   "outputs": [],
   "source": [
    "The function starts with max_sum = 2 and current_sum = 2.\n",
    "\n",
    "As it iterates through the array:\n",
    "\n",
    "At i = 1: arr[1] = 1, current_sum resets to 1.\n",
    "At i = 2: arr[2] = 4, current_sum becomes 5 (1 + 4).\n",
    "At i = 3: arr[3] = 7, current_sum becomes 12 (1 + 4 + 7).\n",
    "At i = 4: arr[4] = 3, current_sum resets to 3.\n",
    "At i = 5: arr[5] = 6, current_sum becomes 9 (3 + 6).\n",
    "    \n",
    "    \n",
    "Finally, max_sum is 12, which is returned and printed."
   ]
  },
  {
   "cell_type": "code",
   "execution_count": 20,
   "id": "3bd9b073",
   "metadata": {},
   "outputs": [
    {
     "name": "stdout",
     "output_type": "stream",
     "text": [
      "(3, 1)\n"
     ]
    }
   ],
   "source": [
    "numbers = (3, 1, 7, 18, 9)\n",
    "\n",
    "# initialize min and max with 1st element\n",
    "\n",
    "min_num = max_num = numbers[0]\n",
    "\n",
    "for num in numbers:\n",
    "    if num < min_num:\n",
    "        min_num = num  # update min if a small num\n",
    "    if num > max_num:\n",
    "        max_num = num\n",
    "        \n",
    "#print((max_num,min_num))\n",
    "\n",
    "\n",
    "print((numbers[0],numbers[1]))"
   ]
  },
  {
   "cell_type": "code",
   "execution_count": 21,
   "id": "c3d17db7",
   "metadata": {},
   "outputs": [
    {
     "name": "stdout",
     "output_type": "stream",
     "text": [
      "(3, 1)\n"
     ]
    }
   ],
   "source": [
    "print((numbers[0], numbers[1])) "
   ]
  },
  {
   "cell_type": "code",
   "execution_count": 22,
   "id": "c9ec0c7b",
   "metadata": {},
   "outputs": [
    {
     "name": "stdout",
     "output_type": "stream",
     "text": [
      "(18, 9)\n"
     ]
    }
   ],
   "source": [
    "print((numbers[-2], numbers[-1]))"
   ]
  },
  {
   "cell_type": "code",
   "execution_count": 23,
   "id": "debccaea",
   "metadata": {},
   "outputs": [
    {
     "name": "stdout",
     "output_type": "stream",
     "text": [
      "  * * * * * * \n",
      "*             \n",
      "*             \n",
      "*     * * * * \n",
      "*           * \n",
      "*           * \n",
      "  * * * * * * \n"
     ]
    }
   ],
   "source": [
    "k = 7\n",
    "for i in range(k): # outer loop\n",
    "    for j in range(k):\n",
    "        if (j == 0 and (i > 0 and i < k - 1)) or (i == 0 and j > 0) or (i == k // 2 and j >= k // 2) or (i == k - 1 and j > 0) or (j == k - 1 and i >= k // 2 and i < k - 1):\n",
    "            print('*', end=' ')\n",
    "        else:\n",
    "            print(' ', end=' ')\n",
    "    print()\n"
   ]
  },
  {
   "cell_type": "code",
   "execution_count": 24,
   "id": "5bd6d5df",
   "metadata": {},
   "outputs": [
    {
     "name": "stdout",
     "output_type": "stream",
     "text": [
      "  * * * * * * * * \n",
      "*                 \n",
      "*                 \n",
      "*                 \n",
      "*       * * * * * \n",
      "*               * \n",
      "*               * \n",
      "*               * \n",
      "  * * * * * * * * \n"
     ]
    }
   ],
   "source": [
    "k = 9\n",
    "for i in range(k):\n",
    "    for j in range(k):\n",
    "        if (j == 0 and (i > 0 and i < k - 1)) or (i == 0 and j > 0) or (i == k // 2 and j >= k // 2) or (i == k - 1 and j > 0) or (j == k - 1 and i >= k // 2 and i < k - 1):\n",
    "            print('*', end=' ')\n",
    "        else:\n",
    "            print(' ', end=' ')\n",
    "    print()\n"
   ]
  },
  {
   "cell_type": "code",
   "execution_count": 27,
   "id": "ade6f385",
   "metadata": {},
   "outputs": [
    {
     "name": "stdout",
     "output_type": "stream",
     "text": [
      "['is', 'Easy', 'Python']\n"
     ]
    }
   ],
   "source": [
    "lst = ['Python', 'is', 'Easy']\n",
    "\n",
    "from random import shuffle\n",
    "\n",
    "shuffle(lst)\n",
    "print(lst)"
   ]
  },
  {
   "cell_type": "code",
   "execution_count": 28,
   "id": "02160284",
   "metadata": {},
   "outputs": [
    {
     "name": "stdout",
     "output_type": "stream",
     "text": [
      "['Python', 'is', 'Easy']\n",
      "['Easy', 'is', 'Python']\n",
      "['Easy', 'is', 'Python']\n"
     ]
    }
   ],
   "source": [
    "lst = ['Python', 'is', 'Easy']\n",
    "\n",
    "for _ in range(3):\n",
    "    shuffle(lst)\n",
    "    print(lst)"
   ]
  },
  {
   "cell_type": "code",
   "execution_count": 29,
   "id": "7d30d65f",
   "metadata": {},
   "outputs": [
    {
     "name": "stdout",
     "output_type": "stream",
     "text": [
      "[5, 7, 9]\n"
     ]
    }
   ],
   "source": [
    "lst1 = [1, 2, 3]\n",
    "lst2 = [4, 5, 6] \n",
    "\n",
    "res_lst = [] \n",
    "for i in range(0, len(lst1)):\n",
    "    res_lst.append(lst1[i] + lst2[i]) \n",
    "print(res_lst)"
   ]
  },
  {
   "cell_type": "code",
   "execution_count": null,
   "id": "71fa871c",
   "metadata": {},
   "outputs": [],
   "source": []
  }
 ],
 "metadata": {
  "kernelspec": {
   "display_name": "Python 3",
   "language": "python",
   "name": "python3"
  },
  "language_info": {
   "codemirror_mode": {
    "name": "ipython",
    "version": 3
   },
   "file_extension": ".py",
   "mimetype": "text/x-python",
   "name": "python",
   "nbconvert_exporter": "python",
   "pygments_lexer": "ipython3",
   "version": "3.8.8"
  }
 },
 "nbformat": 4,
 "nbformat_minor": 5
}
